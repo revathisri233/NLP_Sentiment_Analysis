{
  "nbformat": 4,
  "nbformat_minor": 0,
  "metadata": {
    "colab": {
      "provenance": []
    },
    "kernelspec": {
      "name": "python3",
      "display_name": "Python 3"
    },
    "language_info": {
      "name": "python"
    }
  },
  "cells": [
    {
      "cell_type": "code",
      "execution_count": 1,
      "metadata": {
        "colab": {
          "base_uri": "https://localhost:8080/"
        },
        "id": "HeoGMNIVqD5T",
        "outputId": "86c294b2-47d5-4f62-b40a-efc398371db4"
      },
      "outputs": [
        {
          "output_type": "stream",
          "name": "stderr",
          "text": [
            "[nltk_data] Downloading package stopwords to /root/nltk_data...\n",
            "[nltk_data]   Unzipping corpora/stopwords.zip.\n",
            "[nltk_data] Downloading package vader_lexicon to /root/nltk_data...\n"
          ]
        }
      ],
      "source": [
        "import numpy as np\n",
        "import pandas as pd\n",
        "import os\n",
        "from tqdm import tqdm\n",
        "\n",
        "#For Preprocessing\n",
        "import re    # RegEx for removing non-letter characters\n",
        "import nltk  # natural language processing\n",
        "nltk.download(\"stopwords\")\n",
        "from nltk.corpus import stopwords\n",
        "from nltk.stem.porter import *\n",
        "from nltk.sentiment.vader import SentimentIntensityAnalyzer\n",
        "nltk.download('vader_lexicon')\n",
        "\n",
        "# For Building the model\n",
        "from sklearn.model_selection import train_test_split\n",
        "import tensorflow as tf\n",
        "import seaborn as sns\n",
        "\n",
        "#For data visualization\n",
        "import matplotlib.pyplot as plt\n",
        "import matplotlib.patches as mpatches\n",
        "%matplotlib inline\n",
        "pd.options.plotting.backend = \"plotly\""
      ]
    },
    {
      "cell_type": "code",
      "source": [
        "# Load Tweet dataset\n",
        "df0 = pd.read_csv('Bitcoin_tweets.csv')\n",
        "df0"
      ],
      "metadata": {
        "colab": {
          "base_uri": "https://localhost:8080/",
          "height": 1000
        },
        "id": "ino6gI4Izo6A",
        "outputId": "ee2b5c63-d407-462a-e527-5233a90a59a1"
      },
      "execution_count": 2,
      "outputs": [
        {
          "output_type": "execute_result",
          "data": {
            "text/plain": [
              "                                      user_name                user_location  \\\n",
              "0                                 DeSota Wilson                  Atlanta, GA   \n",
              "1                                      CryptoND                          NaN   \n",
              "2                                     Tdlmatias              London, England   \n",
              "3                          Crypto is the future                          NaN   \n",
              "4      Alex Kirchmaier 🇦🇹🇸🇪 #FactsSuperspreader                       Europa   \n",
              "...                                         ...                          ...   \n",
              "14254            Mister G The Recycling Guy🇬🇭🇺🇲                          NaN   \n",
              "14255                         Abundance forever  Dubai, United Arab Emirates   \n",
              "14256                                   Magalli                          NaN   \n",
              "14257                             Bitcoin Waifu                          NaN   \n",
              "14258                          #MakeADifference                       Online   \n",
              "\n",
              "                                        user_description         user_created  \\\n",
              "0      Biz Consultant, real estate, fintech, startups...  2009-04-26 20:05:09   \n",
              "1      😎 BITCOINLIVE is a Dutch platform aimed at inf...  2019-10-17 20:12:10   \n",
              "2      IM Academy : The best #forex, #SelfEducation, ...  2014-11-10 10:50:37   \n",
              "3      I will post a lot of buying signals for BTC tr...  2019-09-28 16:48:12   \n",
              "4      Co-founder @RENJERJerky | Forbes 30Under30 | I...  2016-02-03 13:15:55   \n",
              "...                                                  ...                  ...   \n",
              "14254                                           #Bitcoin  2010-12-16 17:35:18   \n",
              "14255                                         Gratitude🙏  2020-07-01 02:41:46   \n",
              "14256                                     En iyisi olmak  2019-03-13 22:11:43   \n",
              "14257                                                NaN  2014-05-24 12:36:05   \n",
              "14258  Are you ready to make a difference?\\n\\nGet $10...  2015-05-02 16:54:25   \n",
              "\n",
              "       user_followers  user_friends  user_favourites  user_verified  \\\n",
              "0              8534.0          7605             4838          False   \n",
              "1              6769.0          1532            25483          False   \n",
              "2               128.0           332              924          False   \n",
              "3               625.0           129               14          False   \n",
              "4              1249.0          1472            10482          False   \n",
              "...               ...           ...              ...            ...   \n",
              "14254            68.0           211             3371          False   \n",
              "14255            76.0           316              491          False   \n",
              "14256            74.0           360              943          False   \n",
              "14257         54273.0         20070              577          False   \n",
              "14258         78778.0         46656           120854          False   \n",
              "\n",
              "                      date                                               text  \\\n",
              "0      2021-02-10 23:59:04  Blue Ridge Bank shares halted by NYSE after #b...   \n",
              "1      2021-02-10 23:58:48  😎 Today, that's this #Thursday, we will do a \"...   \n",
              "2      2021-02-10 23:54:48  Guys evening, I have read this article about B...   \n",
              "3      2021-02-10 23:54:33  $BTC A big chance in a billion! Price: \\487264...   \n",
              "4      2021-02-10 23:54:06  This network is secured by 9 508 nodes as of t...   \n",
              "...                    ...                                                ...   \n",
              "14254  2021-02-07 17:47:00  I notice a lot of people looking towards crypt...   \n",
              "14255  2021-02-07 17:45:45  @maxkeiser 💯 Being Indian woman. I am accumula...   \n",
              "14256  2021-02-07 17:45:13  “AND THEN THE PRICE WILL SUDDENLY RISE FROM DO...   \n",
              "14257  2021-02-07 17:45:04  When the top U.S. Central Banker gets photobom...   \n",
              "14258  2021-02-07 17:44:51                                              https   \n",
              "\n",
              "                                        hashtags               source  \\\n",
              "0                                    ['bitcoin']      Twitter Web App   \n",
              "1      ['Thursday', 'Btc', 'wallet', 'security']  Twitter for Android   \n",
              "2                                            NaN      Twitter Web App   \n",
              "3             ['Bitcoin', 'FX', 'BTC', 'crypto']              dlvr.it   \n",
              "4                                        ['BTC']      Twitter Web App   \n",
              "...                                          ...                  ...   \n",
              "14254                         ['Bitcoin', 'Btc']  Twitter for Android   \n",
              "14255                         ['btc', 'bitcoin']   Twitter for iPhone   \n",
              "14256                                        NaN      Twitter Web App   \n",
              "14257               ['Bitcoin', 'BTC', 'Crypto']        Crowdfire App   \n",
              "14258                                        NaN                  NaN   \n",
              "\n",
              "      is_retweet  \n",
              "0          False  \n",
              "1          False  \n",
              "2          False  \n",
              "3          False  \n",
              "4          False  \n",
              "...          ...  \n",
              "14254      False  \n",
              "14255      False  \n",
              "14256      False  \n",
              "14257      False  \n",
              "14258        NaN  \n",
              "\n",
              "[14259 rows x 13 columns]"
            ],
            "text/html": [
              "\n",
              "  <div id=\"df-5c8dbe96-fb25-4e60-a8cc-d7c86ce0987c\">\n",
              "    <div class=\"colab-df-container\">\n",
              "      <div>\n",
              "<style scoped>\n",
              "    .dataframe tbody tr th:only-of-type {\n",
              "        vertical-align: middle;\n",
              "    }\n",
              "\n",
              "    .dataframe tbody tr th {\n",
              "        vertical-align: top;\n",
              "    }\n",
              "\n",
              "    .dataframe thead th {\n",
              "        text-align: right;\n",
              "    }\n",
              "</style>\n",
              "<table border=\"1\" class=\"dataframe\">\n",
              "  <thead>\n",
              "    <tr style=\"text-align: right;\">\n",
              "      <th></th>\n",
              "      <th>user_name</th>\n",
              "      <th>user_location</th>\n",
              "      <th>user_description</th>\n",
              "      <th>user_created</th>\n",
              "      <th>user_followers</th>\n",
              "      <th>user_friends</th>\n",
              "      <th>user_favourites</th>\n",
              "      <th>user_verified</th>\n",
              "      <th>date</th>\n",
              "      <th>text</th>\n",
              "      <th>hashtags</th>\n",
              "      <th>source</th>\n",
              "      <th>is_retweet</th>\n",
              "    </tr>\n",
              "  </thead>\n",
              "  <tbody>\n",
              "    <tr>\n",
              "      <th>0</th>\n",
              "      <td>DeSota Wilson</td>\n",
              "      <td>Atlanta, GA</td>\n",
              "      <td>Biz Consultant, real estate, fintech, startups...</td>\n",
              "      <td>2009-04-26 20:05:09</td>\n",
              "      <td>8534.0</td>\n",
              "      <td>7605</td>\n",
              "      <td>4838</td>\n",
              "      <td>False</td>\n",
              "      <td>2021-02-10 23:59:04</td>\n",
              "      <td>Blue Ridge Bank shares halted by NYSE after #b...</td>\n",
              "      <td>['bitcoin']</td>\n",
              "      <td>Twitter Web App</td>\n",
              "      <td>False</td>\n",
              "    </tr>\n",
              "    <tr>\n",
              "      <th>1</th>\n",
              "      <td>CryptoND</td>\n",
              "      <td>NaN</td>\n",
              "      <td>😎 BITCOINLIVE is a Dutch platform aimed at inf...</td>\n",
              "      <td>2019-10-17 20:12:10</td>\n",
              "      <td>6769.0</td>\n",
              "      <td>1532</td>\n",
              "      <td>25483</td>\n",
              "      <td>False</td>\n",
              "      <td>2021-02-10 23:58:48</td>\n",
              "      <td>😎 Today, that's this #Thursday, we will do a \"...</td>\n",
              "      <td>['Thursday', 'Btc', 'wallet', 'security']</td>\n",
              "      <td>Twitter for Android</td>\n",
              "      <td>False</td>\n",
              "    </tr>\n",
              "    <tr>\n",
              "      <th>2</th>\n",
              "      <td>Tdlmatias</td>\n",
              "      <td>London, England</td>\n",
              "      <td>IM Academy : The best #forex, #SelfEducation, ...</td>\n",
              "      <td>2014-11-10 10:50:37</td>\n",
              "      <td>128.0</td>\n",
              "      <td>332</td>\n",
              "      <td>924</td>\n",
              "      <td>False</td>\n",
              "      <td>2021-02-10 23:54:48</td>\n",
              "      <td>Guys evening, I have read this article about B...</td>\n",
              "      <td>NaN</td>\n",
              "      <td>Twitter Web App</td>\n",
              "      <td>False</td>\n",
              "    </tr>\n",
              "    <tr>\n",
              "      <th>3</th>\n",
              "      <td>Crypto is the future</td>\n",
              "      <td>NaN</td>\n",
              "      <td>I will post a lot of buying signals for BTC tr...</td>\n",
              "      <td>2019-09-28 16:48:12</td>\n",
              "      <td>625.0</td>\n",
              "      <td>129</td>\n",
              "      <td>14</td>\n",
              "      <td>False</td>\n",
              "      <td>2021-02-10 23:54:33</td>\n",
              "      <td>$BTC A big chance in a billion! Price: \\487264...</td>\n",
              "      <td>['Bitcoin', 'FX', 'BTC', 'crypto']</td>\n",
              "      <td>dlvr.it</td>\n",
              "      <td>False</td>\n",
              "    </tr>\n",
              "    <tr>\n",
              "      <th>4</th>\n",
              "      <td>Alex Kirchmaier 🇦🇹🇸🇪 #FactsSuperspreader</td>\n",
              "      <td>Europa</td>\n",
              "      <td>Co-founder @RENJERJerky | Forbes 30Under30 | I...</td>\n",
              "      <td>2016-02-03 13:15:55</td>\n",
              "      <td>1249.0</td>\n",
              "      <td>1472</td>\n",
              "      <td>10482</td>\n",
              "      <td>False</td>\n",
              "      <td>2021-02-10 23:54:06</td>\n",
              "      <td>This network is secured by 9 508 nodes as of t...</td>\n",
              "      <td>['BTC']</td>\n",
              "      <td>Twitter Web App</td>\n",
              "      <td>False</td>\n",
              "    </tr>\n",
              "    <tr>\n",
              "      <th>...</th>\n",
              "      <td>...</td>\n",
              "      <td>...</td>\n",
              "      <td>...</td>\n",
              "      <td>...</td>\n",
              "      <td>...</td>\n",
              "      <td>...</td>\n",
              "      <td>...</td>\n",
              "      <td>...</td>\n",
              "      <td>...</td>\n",
              "      <td>...</td>\n",
              "      <td>...</td>\n",
              "      <td>...</td>\n",
              "      <td>...</td>\n",
              "    </tr>\n",
              "    <tr>\n",
              "      <th>14254</th>\n",
              "      <td>Mister G The Recycling Guy🇬🇭🇺🇲</td>\n",
              "      <td>NaN</td>\n",
              "      <td>#Bitcoin</td>\n",
              "      <td>2010-12-16 17:35:18</td>\n",
              "      <td>68.0</td>\n",
              "      <td>211</td>\n",
              "      <td>3371</td>\n",
              "      <td>False</td>\n",
              "      <td>2021-02-07 17:47:00</td>\n",
              "      <td>I notice a lot of people looking towards crypt...</td>\n",
              "      <td>['Bitcoin', 'Btc']</td>\n",
              "      <td>Twitter for Android</td>\n",
              "      <td>False</td>\n",
              "    </tr>\n",
              "    <tr>\n",
              "      <th>14255</th>\n",
              "      <td>Abundance forever</td>\n",
              "      <td>Dubai, United Arab Emirates</td>\n",
              "      <td>Gratitude🙏</td>\n",
              "      <td>2020-07-01 02:41:46</td>\n",
              "      <td>76.0</td>\n",
              "      <td>316</td>\n",
              "      <td>491</td>\n",
              "      <td>False</td>\n",
              "      <td>2021-02-07 17:45:45</td>\n",
              "      <td>@maxkeiser 💯 Being Indian woman. I am accumula...</td>\n",
              "      <td>['btc', 'bitcoin']</td>\n",
              "      <td>Twitter for iPhone</td>\n",
              "      <td>False</td>\n",
              "    </tr>\n",
              "    <tr>\n",
              "      <th>14256</th>\n",
              "      <td>Magalli</td>\n",
              "      <td>NaN</td>\n",
              "      <td>En iyisi olmak</td>\n",
              "      <td>2019-03-13 22:11:43</td>\n",
              "      <td>74.0</td>\n",
              "      <td>360</td>\n",
              "      <td>943</td>\n",
              "      <td>False</td>\n",
              "      <td>2021-02-07 17:45:13</td>\n",
              "      <td>“AND THEN THE PRICE WILL SUDDENLY RISE FROM DO...</td>\n",
              "      <td>NaN</td>\n",
              "      <td>Twitter Web App</td>\n",
              "      <td>False</td>\n",
              "    </tr>\n",
              "    <tr>\n",
              "      <th>14257</th>\n",
              "      <td>Bitcoin Waifu</td>\n",
              "      <td>NaN</td>\n",
              "      <td>NaN</td>\n",
              "      <td>2014-05-24 12:36:05</td>\n",
              "      <td>54273.0</td>\n",
              "      <td>20070</td>\n",
              "      <td>577</td>\n",
              "      <td>False</td>\n",
              "      <td>2021-02-07 17:45:04</td>\n",
              "      <td>When the top U.S. Central Banker gets photobom...</td>\n",
              "      <td>['Bitcoin', 'BTC', 'Crypto']</td>\n",
              "      <td>Crowdfire App</td>\n",
              "      <td>False</td>\n",
              "    </tr>\n",
              "    <tr>\n",
              "      <th>14258</th>\n",
              "      <td>#MakeADifference</td>\n",
              "      <td>Online</td>\n",
              "      <td>Are you ready to make a difference?\\n\\nGet $10...</td>\n",
              "      <td>2015-05-02 16:54:25</td>\n",
              "      <td>78778.0</td>\n",
              "      <td>46656</td>\n",
              "      <td>120854</td>\n",
              "      <td>False</td>\n",
              "      <td>2021-02-07 17:44:51</td>\n",
              "      <td>https</td>\n",
              "      <td>NaN</td>\n",
              "      <td>NaN</td>\n",
              "      <td>NaN</td>\n",
              "    </tr>\n",
              "  </tbody>\n",
              "</table>\n",
              "<p>14259 rows × 13 columns</p>\n",
              "</div>\n",
              "      <button class=\"colab-df-convert\" onclick=\"convertToInteractive('df-5c8dbe96-fb25-4e60-a8cc-d7c86ce0987c')\"\n",
              "              title=\"Convert this dataframe to an interactive table.\"\n",
              "              style=\"display:none;\">\n",
              "        \n",
              "  <svg xmlns=\"http://www.w3.org/2000/svg\" height=\"24px\"viewBox=\"0 0 24 24\"\n",
              "       width=\"24px\">\n",
              "    <path d=\"M0 0h24v24H0V0z\" fill=\"none\"/>\n",
              "    <path d=\"M18.56 5.44l.94 2.06.94-2.06 2.06-.94-2.06-.94-.94-2.06-.94 2.06-2.06.94zm-11 1L8.5 8.5l.94-2.06 2.06-.94-2.06-.94L8.5 2.5l-.94 2.06-2.06.94zm10 10l.94 2.06.94-2.06 2.06-.94-2.06-.94-.94-2.06-.94 2.06-2.06.94z\"/><path d=\"M17.41 7.96l-1.37-1.37c-.4-.4-.92-.59-1.43-.59-.52 0-1.04.2-1.43.59L10.3 9.45l-7.72 7.72c-.78.78-.78 2.05 0 2.83L4 21.41c.39.39.9.59 1.41.59.51 0 1.02-.2 1.41-.59l7.78-7.78 2.81-2.81c.8-.78.8-2.07 0-2.86zM5.41 20L4 18.59l7.72-7.72 1.47 1.35L5.41 20z\"/>\n",
              "  </svg>\n",
              "      </button>\n",
              "      \n",
              "  <style>\n",
              "    .colab-df-container {\n",
              "      display:flex;\n",
              "      flex-wrap:wrap;\n",
              "      gap: 12px;\n",
              "    }\n",
              "\n",
              "    .colab-df-convert {\n",
              "      background-color: #E8F0FE;\n",
              "      border: none;\n",
              "      border-radius: 50%;\n",
              "      cursor: pointer;\n",
              "      display: none;\n",
              "      fill: #1967D2;\n",
              "      height: 32px;\n",
              "      padding: 0 0 0 0;\n",
              "      width: 32px;\n",
              "    }\n",
              "\n",
              "    .colab-df-convert:hover {\n",
              "      background-color: #E2EBFA;\n",
              "      box-shadow: 0px 1px 2px rgba(60, 64, 67, 0.3), 0px 1px 3px 1px rgba(60, 64, 67, 0.15);\n",
              "      fill: #174EA6;\n",
              "    }\n",
              "\n",
              "    [theme=dark] .colab-df-convert {\n",
              "      background-color: #3B4455;\n",
              "      fill: #D2E3FC;\n",
              "    }\n",
              "\n",
              "    [theme=dark] .colab-df-convert:hover {\n",
              "      background-color: #434B5C;\n",
              "      box-shadow: 0px 1px 3px 1px rgba(0, 0, 0, 0.15);\n",
              "      filter: drop-shadow(0px 1px 2px rgba(0, 0, 0, 0.3));\n",
              "      fill: #FFFFFF;\n",
              "    }\n",
              "  </style>\n",
              "\n",
              "      <script>\n",
              "        const buttonEl =\n",
              "          document.querySelector('#df-5c8dbe96-fb25-4e60-a8cc-d7c86ce0987c button.colab-df-convert');\n",
              "        buttonEl.style.display =\n",
              "          google.colab.kernel.accessAllowed ? 'block' : 'none';\n",
              "\n",
              "        async function convertToInteractive(key) {\n",
              "          const element = document.querySelector('#df-5c8dbe96-fb25-4e60-a8cc-d7c86ce0987c');\n",
              "          const dataTable =\n",
              "            await google.colab.kernel.invokeFunction('convertToInteractive',\n",
              "                                                     [key], {});\n",
              "          if (!dataTable) return;\n",
              "\n",
              "          const docLinkHtml = 'Like what you see? Visit the ' +\n",
              "            '<a target=\"_blank\" href=https://colab.research.google.com/notebooks/data_table.ipynb>data table notebook</a>'\n",
              "            + ' to learn more about interactive tables.';\n",
              "          element.innerHTML = '';\n",
              "          dataTable['output_type'] = 'display_data';\n",
              "          await google.colab.output.renderOutput(dataTable, element);\n",
              "          const docLink = document.createElement('div');\n",
              "          docLink.innerHTML = docLinkHtml;\n",
              "          element.appendChild(docLink);\n",
              "        }\n",
              "      </script>\n",
              "    </div>\n",
              "  </div>\n",
              "  "
            ]
          },
          "metadata": {},
          "execution_count": 2
        }
      ]
    },
    {
      "cell_type": "code",
      "source": [
        "df=df0[['text']][0:20000]\n",
        "df"
      ],
      "metadata": {
        "colab": {
          "base_uri": "https://localhost:8080/",
          "height": 424
        },
        "id": "BifzCorJzp1O",
        "outputId": "0af00e5f-e8d2-4520-960f-b4c4421be3ef"
      },
      "execution_count": 3,
      "outputs": [
        {
          "output_type": "execute_result",
          "data": {
            "text/plain": [
              "                                                    text\n",
              "0      Blue Ridge Bank shares halted by NYSE after #b...\n",
              "1      😎 Today, that's this #Thursday, we will do a \"...\n",
              "2      Guys evening, I have read this article about B...\n",
              "3      $BTC A big chance in a billion! Price: \\487264...\n",
              "4      This network is secured by 9 508 nodes as of t...\n",
              "...                                                  ...\n",
              "14254  I notice a lot of people looking towards crypt...\n",
              "14255  @maxkeiser 💯 Being Indian woman. I am accumula...\n",
              "14256  “AND THEN THE PRICE WILL SUDDENLY RISE FROM DO...\n",
              "14257  When the top U.S. Central Banker gets photobom...\n",
              "14258                                              https\n",
              "\n",
              "[14259 rows x 1 columns]"
            ],
            "text/html": [
              "\n",
              "  <div id=\"df-52d0e5c2-5cab-42fb-975a-abffed659b36\">\n",
              "    <div class=\"colab-df-container\">\n",
              "      <div>\n",
              "<style scoped>\n",
              "    .dataframe tbody tr th:only-of-type {\n",
              "        vertical-align: middle;\n",
              "    }\n",
              "\n",
              "    .dataframe tbody tr th {\n",
              "        vertical-align: top;\n",
              "    }\n",
              "\n",
              "    .dataframe thead th {\n",
              "        text-align: right;\n",
              "    }\n",
              "</style>\n",
              "<table border=\"1\" class=\"dataframe\">\n",
              "  <thead>\n",
              "    <tr style=\"text-align: right;\">\n",
              "      <th></th>\n",
              "      <th>text</th>\n",
              "    </tr>\n",
              "  </thead>\n",
              "  <tbody>\n",
              "    <tr>\n",
              "      <th>0</th>\n",
              "      <td>Blue Ridge Bank shares halted by NYSE after #b...</td>\n",
              "    </tr>\n",
              "    <tr>\n",
              "      <th>1</th>\n",
              "      <td>😎 Today, that's this #Thursday, we will do a \"...</td>\n",
              "    </tr>\n",
              "    <tr>\n",
              "      <th>2</th>\n",
              "      <td>Guys evening, I have read this article about B...</td>\n",
              "    </tr>\n",
              "    <tr>\n",
              "      <th>3</th>\n",
              "      <td>$BTC A big chance in a billion! Price: \\487264...</td>\n",
              "    </tr>\n",
              "    <tr>\n",
              "      <th>4</th>\n",
              "      <td>This network is secured by 9 508 nodes as of t...</td>\n",
              "    </tr>\n",
              "    <tr>\n",
              "      <th>...</th>\n",
              "      <td>...</td>\n",
              "    </tr>\n",
              "    <tr>\n",
              "      <th>14254</th>\n",
              "      <td>I notice a lot of people looking towards crypt...</td>\n",
              "    </tr>\n",
              "    <tr>\n",
              "      <th>14255</th>\n",
              "      <td>@maxkeiser 💯 Being Indian woman. I am accumula...</td>\n",
              "    </tr>\n",
              "    <tr>\n",
              "      <th>14256</th>\n",
              "      <td>“AND THEN THE PRICE WILL SUDDENLY RISE FROM DO...</td>\n",
              "    </tr>\n",
              "    <tr>\n",
              "      <th>14257</th>\n",
              "      <td>When the top U.S. Central Banker gets photobom...</td>\n",
              "    </tr>\n",
              "    <tr>\n",
              "      <th>14258</th>\n",
              "      <td>https</td>\n",
              "    </tr>\n",
              "  </tbody>\n",
              "</table>\n",
              "<p>14259 rows × 1 columns</p>\n",
              "</div>\n",
              "      <button class=\"colab-df-convert\" onclick=\"convertToInteractive('df-52d0e5c2-5cab-42fb-975a-abffed659b36')\"\n",
              "              title=\"Convert this dataframe to an interactive table.\"\n",
              "              style=\"display:none;\">\n",
              "        \n",
              "  <svg xmlns=\"http://www.w3.org/2000/svg\" height=\"24px\"viewBox=\"0 0 24 24\"\n",
              "       width=\"24px\">\n",
              "    <path d=\"M0 0h24v24H0V0z\" fill=\"none\"/>\n",
              "    <path d=\"M18.56 5.44l.94 2.06.94-2.06 2.06-.94-2.06-.94-.94-2.06-.94 2.06-2.06.94zm-11 1L8.5 8.5l.94-2.06 2.06-.94-2.06-.94L8.5 2.5l-.94 2.06-2.06.94zm10 10l.94 2.06.94-2.06 2.06-.94-2.06-.94-.94-2.06-.94 2.06-2.06.94z\"/><path d=\"M17.41 7.96l-1.37-1.37c-.4-.4-.92-.59-1.43-.59-.52 0-1.04.2-1.43.59L10.3 9.45l-7.72 7.72c-.78.78-.78 2.05 0 2.83L4 21.41c.39.39.9.59 1.41.59.51 0 1.02-.2 1.41-.59l7.78-7.78 2.81-2.81c.8-.78.8-2.07 0-2.86zM5.41 20L4 18.59l7.72-7.72 1.47 1.35L5.41 20z\"/>\n",
              "  </svg>\n",
              "      </button>\n",
              "      \n",
              "  <style>\n",
              "    .colab-df-container {\n",
              "      display:flex;\n",
              "      flex-wrap:wrap;\n",
              "      gap: 12px;\n",
              "    }\n",
              "\n",
              "    .colab-df-convert {\n",
              "      background-color: #E8F0FE;\n",
              "      border: none;\n",
              "      border-radius: 50%;\n",
              "      cursor: pointer;\n",
              "      display: none;\n",
              "      fill: #1967D2;\n",
              "      height: 32px;\n",
              "      padding: 0 0 0 0;\n",
              "      width: 32px;\n",
              "    }\n",
              "\n",
              "    .colab-df-convert:hover {\n",
              "      background-color: #E2EBFA;\n",
              "      box-shadow: 0px 1px 2px rgba(60, 64, 67, 0.3), 0px 1px 3px 1px rgba(60, 64, 67, 0.15);\n",
              "      fill: #174EA6;\n",
              "    }\n",
              "\n",
              "    [theme=dark] .colab-df-convert {\n",
              "      background-color: #3B4455;\n",
              "      fill: #D2E3FC;\n",
              "    }\n",
              "\n",
              "    [theme=dark] .colab-df-convert:hover {\n",
              "      background-color: #434B5C;\n",
              "      box-shadow: 0px 1px 3px 1px rgba(0, 0, 0, 0.15);\n",
              "      filter: drop-shadow(0px 1px 2px rgba(0, 0, 0, 0.3));\n",
              "      fill: #FFFFFF;\n",
              "    }\n",
              "  </style>\n",
              "\n",
              "      <script>\n",
              "        const buttonEl =\n",
              "          document.querySelector('#df-52d0e5c2-5cab-42fb-975a-abffed659b36 button.colab-df-convert');\n",
              "        buttonEl.style.display =\n",
              "          google.colab.kernel.accessAllowed ? 'block' : 'none';\n",
              "\n",
              "        async function convertToInteractive(key) {\n",
              "          const element = document.querySelector('#df-52d0e5c2-5cab-42fb-975a-abffed659b36');\n",
              "          const dataTable =\n",
              "            await google.colab.kernel.invokeFunction('convertToInteractive',\n",
              "                                                     [key], {});\n",
              "          if (!dataTable) return;\n",
              "\n",
              "          const docLinkHtml = 'Like what you see? Visit the ' +\n",
              "            '<a target=\"_blank\" href=https://colab.research.google.com/notebooks/data_table.ipynb>data table notebook</a>'\n",
              "            + ' to learn more about interactive tables.';\n",
              "          element.innerHTML = '';\n",
              "          dataTable['output_type'] = 'display_data';\n",
              "          await google.colab.output.renderOutput(dataTable, element);\n",
              "          const docLink = document.createElement('div');\n",
              "          docLink.innerHTML = docLinkHtml;\n",
              "          element.appendChild(docLink);\n",
              "        }\n",
              "      </script>\n",
              "    </div>\n",
              "  </div>\n",
              "  "
            ]
          },
          "metadata": {},
          "execution_count": 3
        }
      ]
    },
    {
      "cell_type": "code",
      "source": [
        "def tweet_to_words(tweet):\n",
        "    ''' Convert tweet text into a sequence of words '''\n",
        "    \n",
        "    # convert to lowercase\n",
        "    text = tweet.lower()\n",
        "    # remove non letters\n",
        "    text = re.sub(r\"[^a-zA-Z0-9]\", \" \", text)\n",
        "    # tokenize\n",
        "    words = text.split()\n",
        "    # remove stopwords\n",
        "    words = [w for w in words if w not in stopwords.words(\"english\")]\n",
        "    # apply stemming\n",
        "    words = [PorterStemmer().stem(w) for w in words]\n",
        "    # return list\n",
        "    return words"
      ],
      "metadata": {
        "id": "0AgTQgxPzzqJ"
      },
      "execution_count": 4,
      "outputs": []
    },
    {
      "cell_type": "code",
      "source": [
        "cleantext=[]\n",
        "for item in tqdm(df['text']):\n",
        "    words=tweet_to_words(item)\n",
        "    cleantext+=[words]\n",
        "df['cleantext']=cleantext\n",
        "df"
      ],
      "metadata": {
        "colab": {
          "base_uri": "https://localhost:8080/",
          "height": 442
        },
        "id": "FBeplyip0ShD",
        "outputId": "935b8964-3691-42f8-f177-2ca64a7e10a0"
      },
      "execution_count": 5,
      "outputs": [
        {
          "output_type": "stream",
          "name": "stderr",
          "text": [
            "100%|██████████| 14259/14259 [00:51<00:00, 274.91it/s]\n"
          ]
        },
        {
          "output_type": "execute_result",
          "data": {
            "text/plain": [
              "                                                    text  \\\n",
              "0      Blue Ridge Bank shares halted by NYSE after #b...   \n",
              "1      😎 Today, that's this #Thursday, we will do a \"...   \n",
              "2      Guys evening, I have read this article about B...   \n",
              "3      $BTC A big chance in a billion! Price: \\487264...   \n",
              "4      This network is secured by 9 508 nodes as of t...   \n",
              "...                                                  ...   \n",
              "14254  I notice a lot of people looking towards crypt...   \n",
              "14255  @maxkeiser 💯 Being Indian woman. I am accumula...   \n",
              "14256  “AND THEN THE PRICE WILL SUDDENLY RISE FROM DO...   \n",
              "14257  When the top U.S. Central Banker gets photobom...   \n",
              "14258                                              https   \n",
              "\n",
              "                                               cleantext  \n",
              "0      [blue, ridg, bank, share, halt, nyse, bitcoin,...  \n",
              "1      [today, thursday, take, 2, friend, leowandersl...  \n",
              "2      [guy, even, read, articl, btc, would, like, sh...  \n",
              "3      [btc, big, chanc, billion, price, 4872644, 0, ...  \n",
              "4      [network, secur, 9, 508, node, today, soon, bi...  \n",
              "...                                                  ...  \n",
              "14254  [notic, lot, peopl, look, toward, crypto, bitc...  \n",
              "14255  [maxkeis, indian, woman, accumul, btc, sinc, 2...  \n",
              "14256  [price, suddenli, rise, dollar, 41465, dollar,...  \n",
              "14257  [top, u, central, banker, get, photobomb, bitc...  \n",
              "14258                                             [http]  \n",
              "\n",
              "[14259 rows x 2 columns]"
            ],
            "text/html": [
              "\n",
              "  <div id=\"df-84a2f9e2-8e37-498f-b7ce-d27b5f64205e\">\n",
              "    <div class=\"colab-df-container\">\n",
              "      <div>\n",
              "<style scoped>\n",
              "    .dataframe tbody tr th:only-of-type {\n",
              "        vertical-align: middle;\n",
              "    }\n",
              "\n",
              "    .dataframe tbody tr th {\n",
              "        vertical-align: top;\n",
              "    }\n",
              "\n",
              "    .dataframe thead th {\n",
              "        text-align: right;\n",
              "    }\n",
              "</style>\n",
              "<table border=\"1\" class=\"dataframe\">\n",
              "  <thead>\n",
              "    <tr style=\"text-align: right;\">\n",
              "      <th></th>\n",
              "      <th>text</th>\n",
              "      <th>cleantext</th>\n",
              "    </tr>\n",
              "  </thead>\n",
              "  <tbody>\n",
              "    <tr>\n",
              "      <th>0</th>\n",
              "      <td>Blue Ridge Bank shares halted by NYSE after #b...</td>\n",
              "      <td>[blue, ridg, bank, share, halt, nyse, bitcoin,...</td>\n",
              "    </tr>\n",
              "    <tr>\n",
              "      <th>1</th>\n",
              "      <td>😎 Today, that's this #Thursday, we will do a \"...</td>\n",
              "      <td>[today, thursday, take, 2, friend, leowandersl...</td>\n",
              "    </tr>\n",
              "    <tr>\n",
              "      <th>2</th>\n",
              "      <td>Guys evening, I have read this article about B...</td>\n",
              "      <td>[guy, even, read, articl, btc, would, like, sh...</td>\n",
              "    </tr>\n",
              "    <tr>\n",
              "      <th>3</th>\n",
              "      <td>$BTC A big chance in a billion! Price: \\487264...</td>\n",
              "      <td>[btc, big, chanc, billion, price, 4872644, 0, ...</td>\n",
              "    </tr>\n",
              "    <tr>\n",
              "      <th>4</th>\n",
              "      <td>This network is secured by 9 508 nodes as of t...</td>\n",
              "      <td>[network, secur, 9, 508, node, today, soon, bi...</td>\n",
              "    </tr>\n",
              "    <tr>\n",
              "      <th>...</th>\n",
              "      <td>...</td>\n",
              "      <td>...</td>\n",
              "    </tr>\n",
              "    <tr>\n",
              "      <th>14254</th>\n",
              "      <td>I notice a lot of people looking towards crypt...</td>\n",
              "      <td>[notic, lot, peopl, look, toward, crypto, bitc...</td>\n",
              "    </tr>\n",
              "    <tr>\n",
              "      <th>14255</th>\n",
              "      <td>@maxkeiser 💯 Being Indian woman. I am accumula...</td>\n",
              "      <td>[maxkeis, indian, woman, accumul, btc, sinc, 2...</td>\n",
              "    </tr>\n",
              "    <tr>\n",
              "      <th>14256</th>\n",
              "      <td>“AND THEN THE PRICE WILL SUDDENLY RISE FROM DO...</td>\n",
              "      <td>[price, suddenli, rise, dollar, 41465, dollar,...</td>\n",
              "    </tr>\n",
              "    <tr>\n",
              "      <th>14257</th>\n",
              "      <td>When the top U.S. Central Banker gets photobom...</td>\n",
              "      <td>[top, u, central, banker, get, photobomb, bitc...</td>\n",
              "    </tr>\n",
              "    <tr>\n",
              "      <th>14258</th>\n",
              "      <td>https</td>\n",
              "      <td>[http]</td>\n",
              "    </tr>\n",
              "  </tbody>\n",
              "</table>\n",
              "<p>14259 rows × 2 columns</p>\n",
              "</div>\n",
              "      <button class=\"colab-df-convert\" onclick=\"convertToInteractive('df-84a2f9e2-8e37-498f-b7ce-d27b5f64205e')\"\n",
              "              title=\"Convert this dataframe to an interactive table.\"\n",
              "              style=\"display:none;\">\n",
              "        \n",
              "  <svg xmlns=\"http://www.w3.org/2000/svg\" height=\"24px\"viewBox=\"0 0 24 24\"\n",
              "       width=\"24px\">\n",
              "    <path d=\"M0 0h24v24H0V0z\" fill=\"none\"/>\n",
              "    <path d=\"M18.56 5.44l.94 2.06.94-2.06 2.06-.94-2.06-.94-.94-2.06-.94 2.06-2.06.94zm-11 1L8.5 8.5l.94-2.06 2.06-.94-2.06-.94L8.5 2.5l-.94 2.06-2.06.94zm10 10l.94 2.06.94-2.06 2.06-.94-2.06-.94-.94-2.06-.94 2.06-2.06.94z\"/><path d=\"M17.41 7.96l-1.37-1.37c-.4-.4-.92-.59-1.43-.59-.52 0-1.04.2-1.43.59L10.3 9.45l-7.72 7.72c-.78.78-.78 2.05 0 2.83L4 21.41c.39.39.9.59 1.41.59.51 0 1.02-.2 1.41-.59l7.78-7.78 2.81-2.81c.8-.78.8-2.07 0-2.86zM5.41 20L4 18.59l7.72-7.72 1.47 1.35L5.41 20z\"/>\n",
              "  </svg>\n",
              "      </button>\n",
              "      \n",
              "  <style>\n",
              "    .colab-df-container {\n",
              "      display:flex;\n",
              "      flex-wrap:wrap;\n",
              "      gap: 12px;\n",
              "    }\n",
              "\n",
              "    .colab-df-convert {\n",
              "      background-color: #E8F0FE;\n",
              "      border: none;\n",
              "      border-radius: 50%;\n",
              "      cursor: pointer;\n",
              "      display: none;\n",
              "      fill: #1967D2;\n",
              "      height: 32px;\n",
              "      padding: 0 0 0 0;\n",
              "      width: 32px;\n",
              "    }\n",
              "\n",
              "    .colab-df-convert:hover {\n",
              "      background-color: #E2EBFA;\n",
              "      box-shadow: 0px 1px 2px rgba(60, 64, 67, 0.3), 0px 1px 3px 1px rgba(60, 64, 67, 0.15);\n",
              "      fill: #174EA6;\n",
              "    }\n",
              "\n",
              "    [theme=dark] .colab-df-convert {\n",
              "      background-color: #3B4455;\n",
              "      fill: #D2E3FC;\n",
              "    }\n",
              "\n",
              "    [theme=dark] .colab-df-convert:hover {\n",
              "      background-color: #434B5C;\n",
              "      box-shadow: 0px 1px 3px 1px rgba(0, 0, 0, 0.15);\n",
              "      filter: drop-shadow(0px 1px 2px rgba(0, 0, 0, 0.3));\n",
              "      fill: #FFFFFF;\n",
              "    }\n",
              "  </style>\n",
              "\n",
              "      <script>\n",
              "        const buttonEl =\n",
              "          document.querySelector('#df-84a2f9e2-8e37-498f-b7ce-d27b5f64205e button.colab-df-convert');\n",
              "        buttonEl.style.display =\n",
              "          google.colab.kernel.accessAllowed ? 'block' : 'none';\n",
              "\n",
              "        async function convertToInteractive(key) {\n",
              "          const element = document.querySelector('#df-84a2f9e2-8e37-498f-b7ce-d27b5f64205e');\n",
              "          const dataTable =\n",
              "            await google.colab.kernel.invokeFunction('convertToInteractive',\n",
              "                                                     [key], {});\n",
              "          if (!dataTable) return;\n",
              "\n",
              "          const docLinkHtml = 'Like what you see? Visit the ' +\n",
              "            '<a target=\"_blank\" href=https://colab.research.google.com/notebooks/data_table.ipynb>data table notebook</a>'\n",
              "            + ' to learn more about interactive tables.';\n",
              "          element.innerHTML = '';\n",
              "          dataTable['output_type'] = 'display_data';\n",
              "          await google.colab.output.renderOutput(dataTable, element);\n",
              "          const docLink = document.createElement('div');\n",
              "          docLink.innerHTML = docLinkHtml;\n",
              "          element.appendChild(docLink);\n",
              "        }\n",
              "      </script>\n",
              "    </div>\n",
              "  </div>\n",
              "  "
            ]
          },
          "metadata": {},
          "execution_count": 5
        }
      ]
    },
    {
      "cell_type": "code",
      "source": [
        "def unlist(list):\n",
        "    words=''\n",
        "    for item in list:\n",
        "        words+=item+' '\n",
        "    return words"
      ],
      "metadata": {
        "id": "QseAUr290Sd6"
      },
      "execution_count": 6,
      "outputs": []
    },
    {
      "cell_type": "code",
      "source": [
        "def compute_vader_scores(df, label):\n",
        "    sid = SentimentIntensityAnalyzer()\n",
        "    df[\"vader_neg\"] = df[label].apply(lambda x: sid.polarity_scores(unlist(x))[\"neg\"])\n",
        "    df[\"vader_neu\"] = df[label].apply(lambda x: sid.polarity_scores(unlist(x))[\"neu\"])\n",
        "    df[\"vader_pos\"] = df[label].apply(lambda x: sid.polarity_scores(unlist(x))[\"pos\"])\n",
        "    df[\"vader_comp\"] = df[label].apply(lambda x: sid.polarity_scores(unlist(x))[\"compound\"])\n",
        "    df['cleantext2'] = df[label].apply(lambda x: unlist(x))\n",
        "    return df"
      ],
      "metadata": {
        "id": "BmtGiJ8d0SYW"
      },
      "execution_count": 7,
      "outputs": []
    },
    {
      "cell_type": "code",
      "source": [
        "df2 = compute_vader_scores(df,'cleantext')\n",
        "df2"
      ],
      "metadata": {
        "colab": {
          "base_uri": "https://localhost:8080/",
          "height": 624
        },
        "id": "pI138fW70SVd",
        "outputId": "f9150da2-84a7-4d89-ca1f-8f4a729b3f82"
      },
      "execution_count": 8,
      "outputs": [
        {
          "output_type": "execute_result",
          "data": {
            "text/plain": [
              "                                                    text  \\\n",
              "0      Blue Ridge Bank shares halted by NYSE after #b...   \n",
              "1      😎 Today, that's this #Thursday, we will do a \"...   \n",
              "2      Guys evening, I have read this article about B...   \n",
              "3      $BTC A big chance in a billion! Price: \\487264...   \n",
              "4      This network is secured by 9 508 nodes as of t...   \n",
              "...                                                  ...   \n",
              "14254  I notice a lot of people looking towards crypt...   \n",
              "14255  @maxkeiser 💯 Being Indian woman. I am accumula...   \n",
              "14256  “AND THEN THE PRICE WILL SUDDENLY RISE FROM DO...   \n",
              "14257  When the top U.S. Central Banker gets photobom...   \n",
              "14258                                              https   \n",
              "\n",
              "                                               cleantext  vader_neg  \\\n",
              "0      [blue, ridg, bank, share, halt, nyse, bitcoin,...        0.0   \n",
              "1      [today, thursday, take, 2, friend, leowandersl...        0.0   \n",
              "2      [guy, even, read, articl, btc, would, like, sh...        0.0   \n",
              "3      [btc, big, chanc, billion, price, 4872644, 0, ...        0.0   \n",
              "4      [network, secur, 9, 508, node, today, soon, bi...        0.2   \n",
              "...                                                  ...        ...   \n",
              "14254  [notic, lot, peopl, look, toward, crypto, bitc...        0.0   \n",
              "14255  [maxkeis, indian, woman, accumul, btc, sinc, 2...        0.0   \n",
              "14256  [price, suddenli, rise, dollar, 41465, dollar,...        0.0   \n",
              "14257  [top, u, central, banker, get, photobomb, bitc...        0.0   \n",
              "14258                                             [http]        0.0   \n",
              "\n",
              "       vader_neu  vader_pos  vader_comp  \\\n",
              "0          0.872      0.128      0.2960   \n",
              "1          0.775      0.225      0.4939   \n",
              "2          0.719      0.281      0.5719   \n",
              "3          1.000      0.000      0.0000   \n",
              "4          0.800      0.000     -0.5423   \n",
              "...          ...        ...         ...   \n",
              "14254      1.000      0.000      0.0000   \n",
              "14255      1.000      0.000      0.0000   \n",
              "14256      1.000      0.000      0.0000   \n",
              "14257      0.886      0.114      0.2023   \n",
              "14258      1.000      0.000      0.0000   \n",
              "\n",
              "                                              cleantext2  \n",
              "0      blue ridg bank share halt nyse bitcoin atm ann...  \n",
              "1      today thursday take 2 friend leowandersleb btc...  \n",
              "2      guy even read articl btc would like share http...  \n",
              "3      btc big chanc billion price 4872644 0 2021 02 ...  \n",
              "4      network secur 9 508 node today soon biggest be...  \n",
              "...                                                  ...  \n",
              "14254  notic lot peopl look toward crypto bitcoin ask...  \n",
              "14255  maxkeis indian woman accumul btc sinc 2017 per...  \n",
              "14256  price suddenli rise dollar 41465 dollar 42130 ...  \n",
              "14257  top u central banker get photobomb bitcoin htt...  \n",
              "14258                                              http   \n",
              "\n",
              "[14259 rows x 7 columns]"
            ],
            "text/html": [
              "\n",
              "  <div id=\"df-02bd6ce6-3ab2-4546-9379-21faf6b59b3a\">\n",
              "    <div class=\"colab-df-container\">\n",
              "      <div>\n",
              "<style scoped>\n",
              "    .dataframe tbody tr th:only-of-type {\n",
              "        vertical-align: middle;\n",
              "    }\n",
              "\n",
              "    .dataframe tbody tr th {\n",
              "        vertical-align: top;\n",
              "    }\n",
              "\n",
              "    .dataframe thead th {\n",
              "        text-align: right;\n",
              "    }\n",
              "</style>\n",
              "<table border=\"1\" class=\"dataframe\">\n",
              "  <thead>\n",
              "    <tr style=\"text-align: right;\">\n",
              "      <th></th>\n",
              "      <th>text</th>\n",
              "      <th>cleantext</th>\n",
              "      <th>vader_neg</th>\n",
              "      <th>vader_neu</th>\n",
              "      <th>vader_pos</th>\n",
              "      <th>vader_comp</th>\n",
              "      <th>cleantext2</th>\n",
              "    </tr>\n",
              "  </thead>\n",
              "  <tbody>\n",
              "    <tr>\n",
              "      <th>0</th>\n",
              "      <td>Blue Ridge Bank shares halted by NYSE after #b...</td>\n",
              "      <td>[blue, ridg, bank, share, halt, nyse, bitcoin,...</td>\n",
              "      <td>0.0</td>\n",
              "      <td>0.872</td>\n",
              "      <td>0.128</td>\n",
              "      <td>0.2960</td>\n",
              "      <td>blue ridg bank share halt nyse bitcoin atm ann...</td>\n",
              "    </tr>\n",
              "    <tr>\n",
              "      <th>1</th>\n",
              "      <td>😎 Today, that's this #Thursday, we will do a \"...</td>\n",
              "      <td>[today, thursday, take, 2, friend, leowandersl...</td>\n",
              "      <td>0.0</td>\n",
              "      <td>0.775</td>\n",
              "      <td>0.225</td>\n",
              "      <td>0.4939</td>\n",
              "      <td>today thursday take 2 friend leowandersleb btc...</td>\n",
              "    </tr>\n",
              "    <tr>\n",
              "      <th>2</th>\n",
              "      <td>Guys evening, I have read this article about B...</td>\n",
              "      <td>[guy, even, read, articl, btc, would, like, sh...</td>\n",
              "      <td>0.0</td>\n",
              "      <td>0.719</td>\n",
              "      <td>0.281</td>\n",
              "      <td>0.5719</td>\n",
              "      <td>guy even read articl btc would like share http...</td>\n",
              "    </tr>\n",
              "    <tr>\n",
              "      <th>3</th>\n",
              "      <td>$BTC A big chance in a billion! Price: \\487264...</td>\n",
              "      <td>[btc, big, chanc, billion, price, 4872644, 0, ...</td>\n",
              "      <td>0.0</td>\n",
              "      <td>1.000</td>\n",
              "      <td>0.000</td>\n",
              "      <td>0.0000</td>\n",
              "      <td>btc big chanc billion price 4872644 0 2021 02 ...</td>\n",
              "    </tr>\n",
              "    <tr>\n",
              "      <th>4</th>\n",
              "      <td>This network is secured by 9 508 nodes as of t...</td>\n",
              "      <td>[network, secur, 9, 508, node, today, soon, bi...</td>\n",
              "      <td>0.2</td>\n",
              "      <td>0.800</td>\n",
              "      <td>0.000</td>\n",
              "      <td>-0.5423</td>\n",
              "      <td>network secur 9 508 node today soon biggest be...</td>\n",
              "    </tr>\n",
              "    <tr>\n",
              "      <th>...</th>\n",
              "      <td>...</td>\n",
              "      <td>...</td>\n",
              "      <td>...</td>\n",
              "      <td>...</td>\n",
              "      <td>...</td>\n",
              "      <td>...</td>\n",
              "      <td>...</td>\n",
              "    </tr>\n",
              "    <tr>\n",
              "      <th>14254</th>\n",
              "      <td>I notice a lot of people looking towards crypt...</td>\n",
              "      <td>[notic, lot, peopl, look, toward, crypto, bitc...</td>\n",
              "      <td>0.0</td>\n",
              "      <td>1.000</td>\n",
              "      <td>0.000</td>\n",
              "      <td>0.0000</td>\n",
              "      <td>notic lot peopl look toward crypto bitcoin ask...</td>\n",
              "    </tr>\n",
              "    <tr>\n",
              "      <th>14255</th>\n",
              "      <td>@maxkeiser 💯 Being Indian woman. I am accumula...</td>\n",
              "      <td>[maxkeis, indian, woman, accumul, btc, sinc, 2...</td>\n",
              "      <td>0.0</td>\n",
              "      <td>1.000</td>\n",
              "      <td>0.000</td>\n",
              "      <td>0.0000</td>\n",
              "      <td>maxkeis indian woman accumul btc sinc 2017 per...</td>\n",
              "    </tr>\n",
              "    <tr>\n",
              "      <th>14256</th>\n",
              "      <td>“AND THEN THE PRICE WILL SUDDENLY RISE FROM DO...</td>\n",
              "      <td>[price, suddenli, rise, dollar, 41465, dollar,...</td>\n",
              "      <td>0.0</td>\n",
              "      <td>1.000</td>\n",
              "      <td>0.000</td>\n",
              "      <td>0.0000</td>\n",
              "      <td>price suddenli rise dollar 41465 dollar 42130 ...</td>\n",
              "    </tr>\n",
              "    <tr>\n",
              "      <th>14257</th>\n",
              "      <td>When the top U.S. Central Banker gets photobom...</td>\n",
              "      <td>[top, u, central, banker, get, photobomb, bitc...</td>\n",
              "      <td>0.0</td>\n",
              "      <td>0.886</td>\n",
              "      <td>0.114</td>\n",
              "      <td>0.2023</td>\n",
              "      <td>top u central banker get photobomb bitcoin htt...</td>\n",
              "    </tr>\n",
              "    <tr>\n",
              "      <th>14258</th>\n",
              "      <td>https</td>\n",
              "      <td>[http]</td>\n",
              "      <td>0.0</td>\n",
              "      <td>1.000</td>\n",
              "      <td>0.000</td>\n",
              "      <td>0.0000</td>\n",
              "      <td>http</td>\n",
              "    </tr>\n",
              "  </tbody>\n",
              "</table>\n",
              "<p>14259 rows × 7 columns</p>\n",
              "</div>\n",
              "      <button class=\"colab-df-convert\" onclick=\"convertToInteractive('df-02bd6ce6-3ab2-4546-9379-21faf6b59b3a')\"\n",
              "              title=\"Convert this dataframe to an interactive table.\"\n",
              "              style=\"display:none;\">\n",
              "        \n",
              "  <svg xmlns=\"http://www.w3.org/2000/svg\" height=\"24px\"viewBox=\"0 0 24 24\"\n",
              "       width=\"24px\">\n",
              "    <path d=\"M0 0h24v24H0V0z\" fill=\"none\"/>\n",
              "    <path d=\"M18.56 5.44l.94 2.06.94-2.06 2.06-.94-2.06-.94-.94-2.06-.94 2.06-2.06.94zm-11 1L8.5 8.5l.94-2.06 2.06-.94-2.06-.94L8.5 2.5l-.94 2.06-2.06.94zm10 10l.94 2.06.94-2.06 2.06-.94-2.06-.94-.94-2.06-.94 2.06-2.06.94z\"/><path d=\"M17.41 7.96l-1.37-1.37c-.4-.4-.92-.59-1.43-.59-.52 0-1.04.2-1.43.59L10.3 9.45l-7.72 7.72c-.78.78-.78 2.05 0 2.83L4 21.41c.39.39.9.59 1.41.59.51 0 1.02-.2 1.41-.59l7.78-7.78 2.81-2.81c.8-.78.8-2.07 0-2.86zM5.41 20L4 18.59l7.72-7.72 1.47 1.35L5.41 20z\"/>\n",
              "  </svg>\n",
              "      </button>\n",
              "      \n",
              "  <style>\n",
              "    .colab-df-container {\n",
              "      display:flex;\n",
              "      flex-wrap:wrap;\n",
              "      gap: 12px;\n",
              "    }\n",
              "\n",
              "    .colab-df-convert {\n",
              "      background-color: #E8F0FE;\n",
              "      border: none;\n",
              "      border-radius: 50%;\n",
              "      cursor: pointer;\n",
              "      display: none;\n",
              "      fill: #1967D2;\n",
              "      height: 32px;\n",
              "      padding: 0 0 0 0;\n",
              "      width: 32px;\n",
              "    }\n",
              "\n",
              "    .colab-df-convert:hover {\n",
              "      background-color: #E2EBFA;\n",
              "      box-shadow: 0px 1px 2px rgba(60, 64, 67, 0.3), 0px 1px 3px 1px rgba(60, 64, 67, 0.15);\n",
              "      fill: #174EA6;\n",
              "    }\n",
              "\n",
              "    [theme=dark] .colab-df-convert {\n",
              "      background-color: #3B4455;\n",
              "      fill: #D2E3FC;\n",
              "    }\n",
              "\n",
              "    [theme=dark] .colab-df-convert:hover {\n",
              "      background-color: #434B5C;\n",
              "      box-shadow: 0px 1px 3px 1px rgba(0, 0, 0, 0.15);\n",
              "      filter: drop-shadow(0px 1px 2px rgba(0, 0, 0, 0.3));\n",
              "      fill: #FFFFFF;\n",
              "    }\n",
              "  </style>\n",
              "\n",
              "      <script>\n",
              "        const buttonEl =\n",
              "          document.querySelector('#df-02bd6ce6-3ab2-4546-9379-21faf6b59b3a button.colab-df-convert');\n",
              "        buttonEl.style.display =\n",
              "          google.colab.kernel.accessAllowed ? 'block' : 'none';\n",
              "\n",
              "        async function convertToInteractive(key) {\n",
              "          const element = document.querySelector('#df-02bd6ce6-3ab2-4546-9379-21faf6b59b3a');\n",
              "          const dataTable =\n",
              "            await google.colab.kernel.invokeFunction('convertToInteractive',\n",
              "                                                     [key], {});\n",
              "          if (!dataTable) return;\n",
              "\n",
              "          const docLinkHtml = 'Like what you see? Visit the ' +\n",
              "            '<a target=\"_blank\" href=https://colab.research.google.com/notebooks/data_table.ipynb>data table notebook</a>'\n",
              "            + ' to learn more about interactive tables.';\n",
              "          element.innerHTML = '';\n",
              "          dataTable['output_type'] = 'display_data';\n",
              "          await google.colab.output.renderOutput(dataTable, element);\n",
              "          const docLink = document.createElement('div');\n",
              "          docLink.innerHTML = docLinkHtml;\n",
              "          element.appendChild(docLink);\n",
              "        }\n",
              "      </script>\n",
              "    </div>\n",
              "  </div>\n",
              "  "
            ]
          },
          "metadata": {},
          "execution_count": 8
        }
      ]
    },
    {
      "cell_type": "code",
      "source": [
        "sns.jointplot(data=df2, x='vader_pos', y='vader_neg', kind=\"kde\")"
      ],
      "metadata": {
        "colab": {
          "base_uri": "https://localhost:8080/",
          "height": 459
        },
        "id": "ZOt3bq230SSu",
        "outputId": "e32b5bf2-e786-4cc6-916a-efd8aa480f6f"
      },
      "execution_count": 9,
      "outputs": [
        {
          "output_type": "execute_result",
          "data": {
            "text/plain": [
              "<seaborn.axisgrid.JointGrid at 0x7f07679bbe50>"
            ]
          },
          "metadata": {},
          "execution_count": 9
        },
        {
          "output_type": "display_data",
          "data": {
            "text/plain": [
              "<Figure size 432x432 with 3 Axes>"
            ],
            "image/png": "[encoded data removed]"
          },
          "metadata": {
            "needs_background": "light"
          }
        }
      ]
    },
    {
      "cell_type": "code",
      "source": [
        "sns.jointplot(data=df2, x='vader_pos', y='vader_neu', kind=\"kde\")"
      ],
      "metadata": {
        "colab": {
          "base_uri": "https://localhost:8080/",
          "height": 459
        },
        "id": "m_xw7FZ-0SPr",
        "outputId": "9a8ede1a-c1e8-470f-ca55-7968ca4eeca7"
      },
      "execution_count": 10,
      "outputs": [
        {
          "output_type": "execute_result",
          "data": {
            "text/plain": [
              "<seaborn.axisgrid.JointGrid at 0x7f0769a68d50>"
            ]
          },
          "metadata": {},
          "execution_count": 10
        },
        {
          "output_type": "display_data",
          "data": {
            "text/plain": [
              "<Figure size 432x432 with 3 Axes>"
            ],
            "image/png": "[encoded data removed]"
          },
          "metadata": {
            "needs_background": "light"
          }
        }
      ]
    },
    {
      "cell_type": "code",
      "source": [
        "class0=[]\n",
        "for i in range(len(df2)):\n",
        "    if df2.loc[i,'vader_neg']>0:\n",
        "        class0+=[0]\n",
        "    elif df2.loc[i,'vader_pos']>0:\n",
        "        class0+=[2]        \n",
        "    else:\n",
        "        class0+=[1]"
      ],
      "metadata": {
        "id": "d2LIG-qz0SMn"
      },
      "execution_count": 11,
      "outputs": []
    },
    {
      "cell_type": "code",
      "source": [
        "df['class']=class0\n",
        "df['class'].value_counts()"
      ],
      "metadata": {
        "colab": {
          "base_uri": "https://localhost:8080/"
        },
        "id": "1COJDVOc0SJ1",
        "outputId": "b0279e1a-2527-415d-b43a-5938716201a1"
      },
      "execution_count": 12,
      "outputs": [
        {
          "output_type": "execute_result",
          "data": {
            "text/plain": [
              "1    7778\n",
              "2    4510\n",
              "0    1971\n",
              "Name: class, dtype: int64"
            ]
          },
          "metadata": {},
          "execution_count": 12
        }
      ]
    },
    {
      "cell_type": "markdown",
      "source": [
        "# def tokenize_pad_sequences(text):"
      ],
      "metadata": {
        "id": "hohXMNZq1P4q"
      }
    },
    {
      "cell_type": "code",
      "source": [
        "from tensorflow.keras.preprocessing.text import Tokenizer\n",
        "from tensorflow.keras.preprocessing.sequence import pad_sequences\n",
        "\n",
        "max_words = 5000\n",
        "max_len=50\n",
        "\n",
        "def tokenize_pad_sequences(text):\n",
        "    '''\n",
        "    This function tokenize the input text into sequnences of intergers and then\n",
        "    pad each sequence to the same length\n",
        "    '''\n",
        "    # Text tokenization\n",
        "    tokenizer = Tokenizer(num_words=max_words, lower=True, split=' ')\n",
        "    tokenizer.fit_on_texts(text)\n",
        "    # Transforms text to a sequence of integers\n",
        "    X = tokenizer.texts_to_sequences(text)\n",
        "    # Pad sequences to the same length\n",
        "    X = pad_sequences(X, padding='post', maxlen=max_len)\n",
        "    # return sequences\n",
        "    return X, tokenizer\n",
        "\n",
        "print('Before Tokenization & Padding \\n', df['cleantext2'][0])\n",
        "X, tokenizer = tokenize_pad_sequences(df['cleantext2'])\n",
        "print('After Tokenization & Padding \\n', X[0])"
      ],
      "metadata": {
        "colab": {
          "base_uri": "https://localhost:8080/"
        },
        "id": "mfiU4oLu0SGM",
        "outputId": "05f560e2-d8be-40ac-e394-6417407e1804"
      },
      "execution_count": 13,
      "outputs": [
        {
          "output_type": "stream",
          "name": "stdout",
          "text": [
            "Before Tokenization & Padding \n",
            " blue ridg bank share halt nyse bitcoin atm announc http co xaazmajkiv myblueridgebank http co sgbxmkp1si \n",
            "After Tokenization & Padding \n",
            " [1411 1563  263  369 3472 2243    3 1019  206    2    1    2    1    0\n",
            "    0    0    0    0    0    0    0    0    0    0    0    0    0    0\n",
            "    0    0    0    0    0    0    0    0    0    0    0    0    0    0\n",
            "    0    0    0    0    0    0    0    0]\n"
          ]
        }
      ]
    },
    {
      "cell_type": "code",
      "source": [
        "print(X.shape)"
      ],
      "metadata": {
        "colab": {
          "base_uri": "https://localhost:8080/"
        },
        "id": "iVmdgfZx0SBk",
        "outputId": "b22c357b-2f29-42b9-87e3-3e960cfefb3a"
      },
      "execution_count": 14,
      "outputs": [
        {
          "output_type": "stream",
          "name": "stdout",
          "text": [
            "(14259, 50)\n"
          ]
        }
      ]
    },
    {
      "cell_type": "code",
      "source": [
        "y = pd.get_dummies(df['class'])\n",
        "X_train, X_test, y_train, y_test = train_test_split(X, y, test_size=0.2, random_state=1)\n",
        "X_train, X_val, y_train, y_val = train_test_split(X_train, y_train, test_size=0.25, random_state=1)\n",
        "print('Train Set: ', X_train.shape, y_train.shape)\n",
        "print('Validation Set: ', X_val.shape, y_val.shape)\n",
        "print('Test Set: ', X_test.shape, y_test.shape)"
      ],
      "metadata": {
        "colab": {
          "base_uri": "https://localhost:8080/"
        },
        "id": "saCmacQI0R-b",
        "outputId": "78693e74-c2d1-4013-c900-c2b4e098bad1"
      },
      "execution_count": 15,
      "outputs": [
        {
          "output_type": "stream",
          "name": "stdout",
          "text": [
            "Train Set:  (8555, 50) (8555, 3)\n",
            "Validation Set:  (2852, 50) (2852, 3)\n",
            "Test Set:  (2852, 50) (2852, 3)\n"
          ]
        }
      ]
    },
    {
      "cell_type": "code",
      "source": [
        "import tensorflow.keras.backend as K\n",
        "\n",
        "def f1_score(precision, recall):\n",
        "    ''' Function to calculate f1 score '''\n",
        "    \n",
        "    f1_val = 2*(precision*recall)/(precision+recall+K.epsilon())\n",
        "    return f1_val"
      ],
      "metadata": {
        "id": "V8rZn3Co0R2H"
      },
      "execution_count": 16,
      "outputs": []
    },
    {
      "cell_type": "code",
      "source": [
        "from tensorflow.keras.models import Sequential\n",
        "from tensorflow.keras.layers import Embedding, Conv1D, MaxPooling1D, Bidirectional, LSTM, Dense, Dropout\n",
        "from tensorflow.keras.metrics import Precision, Recall\n",
        "from tensorflow.keras.optimizers import SGD\n",
        "from tensorflow.keras.optimizers import RMSprop\n",
        "from tensorflow.keras import datasets\n",
        "from tensorflow.keras.callbacks import LearningRateScheduler\n",
        "from tensorflow.keras.callbacks import History\n",
        "from tensorflow.keras import losses"
      ],
      "metadata": {
        "id": "ntZBbod-0RnH"
      },
      "execution_count": 17,
      "outputs": []
    },
    {
      "cell_type": "code",
      "source": [
        "vocab_size = 5000\n",
        "embedding_size = 32\n",
        "epochs = 10\n",
        "learning_rate = 0.1\n",
        "decay_rate = learning_rate / epochs\n",
        "momentum = 0.8"
      ],
      "metadata": {
        "id": "honkskI95zXa"
      },
      "execution_count": 18,
      "outputs": []
    },
    {
      "cell_type": "markdown",
      "source": [
        "# Model"
      ],
      "metadata": {
        "id": "RmQBNmkE52Xt"
      }
    },
    {
      "cell_type": "code",
      "source": [
        "sgd = SGD(lr=learning_rate, momentum=momentum, decay=decay_rate, nesterov=False)\n",
        "# Build model\n",
        "model= Sequential()\n",
        "model.add(Embedding(vocab_size, embedding_size, input_length=max_len))\n",
        "model.add(Conv1D(filters=32, kernel_size=1, padding='same', activation='relu'))\n",
        "model.add(MaxPooling1D(pool_size=2))\n",
        "model.add(Bidirectional(LSTM(32)))\n",
        "model.add(Dropout(0.4))\n",
        "model.add(Dense(3, activation='softmax'))"
      ],
      "metadata": {
        "colab": {
          "base_uri": "https://localhost:8080/"
        },
        "id": "gz-jfQKQ5zMp",
        "outputId": "995b964d-852b-45fb-efe2-2db90e37a5b4"
      },
      "execution_count": 19,
      "outputs": [
        {
          "output_type": "stream",
          "name": "stderr",
          "text": [
            "/usr/local/lib/python3.7/dist-packages/keras/optimizer_v2/gradient_descent.py:102: UserWarning: The `lr` argument is deprecated, use `learning_rate` instead.\n",
            "  super(SGD, self).__init__(name, **kwargs)\n"
          ]
        }
      ]
    },
    {
      "cell_type": "code",
      "source": [
        "import tensorflow as tf\n",
        "tf.keras.utils.plot_model(model, show_shapes=True)"
      ],
      "metadata": {
        "colab": {
          "base_uri": "https://localhost:8080/",
          "height": 754
        },
        "id": "3oTN0Zdm5zJV",
        "outputId": "f3ca7d06-3bfd-4be8-8d48-4f15a400f36a"
      },
      "execution_count": 20,
      "outputs": [
        {
          "output_type": "execute_result",
          "data": {
            "image/png": "[encoded data removed]",
            "text/plain": [
              "<IPython.core.display.Image object>"
            ]
          },
          "metadata": {},
          "execution_count": 20
        }
      ]
    },
    {
      "cell_type": "code",
      "source": [
        "model.compile(loss='categorical_crossentropy', optimizer=sgd, metrics=['accuracy', Precision(), Recall()])"
      ],
      "metadata": {
        "id": "e1STf1Q75zGK"
      },
      "execution_count": 21,
      "outputs": []
    },
    {
      "cell_type": "code",
      "source": [
        "history = model.fit(X_train,y_train,validation_data=(X_val, y_val),batch_size=64,epochs=epochs,verbose=1)"
      ],
      "metadata": {
        "colab": {
          "base_uri": "https://localhost:8080/"
        },
        "id": "1r8Ptfq85zDH",
        "outputId": "13b5818d-8830-4dc6-a358-67e5410723c2"
      },
      "execution_count": 22,
      "outputs": [
        {
          "output_type": "stream",
          "name": "stdout",
          "text": [
            "Epoch 1/10\n",
            "134/134 [==============================] - 12s 45ms/step - loss: 0.9766 - accuracy: 0.5405 - precision: 0.5442 - recall: 0.4472 - val_loss: 0.9675 - val_accuracy: 0.5575 - val_precision: 0.7163 - val_recall: 0.3275\n",
            "Epoch 2/10\n",
            "134/134 [==============================] - 4s 33ms/step - loss: 0.9661 - accuracy: 0.5418 - precision: 0.5467 - recall: 0.5101 - val_loss: 0.9553 - val_accuracy: 0.5575 - val_precision: 0.5575 - val_recall: 0.5575\n",
            "Epoch 3/10\n",
            "134/134 [==============================] - 4s 33ms/step - loss: 0.9567 - accuracy: 0.5418 - precision: 0.5549 - recall: 0.5158 - val_loss: 0.9407 - val_accuracy: 0.5575 - val_precision: 0.5688 - val_recall: 0.5565\n",
            "Epoch 4/10\n",
            "134/134 [==============================] - 4s 32ms/step - loss: 0.9355 - accuracy: 0.5463 - precision: 0.6047 - recall: 0.4695 - val_loss: 0.9141 - val_accuracy: 0.5579 - val_precision: 0.5829 - val_recall: 0.5533\n",
            "Epoch 5/10\n",
            "134/134 [==============================] - 4s 33ms/step - loss: 0.9026 - accuracy: 0.5838 - precision: 0.6726 - recall: 0.4313 - val_loss: 0.8703 - val_accuracy: 0.6371 - val_precision: 0.7494 - val_recall: 0.4393\n",
            "Epoch 6/10\n",
            "134/134 [==============================] - 4s 33ms/step - loss: 0.8529 - accuracy: 0.6372 - precision: 0.7184 - recall: 0.4739 - val_loss: 0.8143 - val_accuracy: 0.6508 - val_precision: 0.7080 - val_recall: 0.5729\n",
            "Epoch 7/10\n",
            "134/134 [==============================] - 4s 32ms/step - loss: 0.7853 - accuracy: 0.6836 - precision: 0.7584 - recall: 0.5681 - val_loss: 0.7426 - val_accuracy: 0.7027 - val_precision: 0.7454 - val_recall: 0.6417\n",
            "Epoch 8/10\n",
            "134/134 [==============================] - 5s 34ms/step - loss: 0.7150 - accuracy: 0.7232 - precision: 0.7809 - recall: 0.6353 - val_loss: 0.6735 - val_accuracy: 0.7479 - val_precision: 0.8107 - val_recall: 0.6578\n",
            "Epoch 9/10\n",
            "134/134 [==============================] - 5s 34ms/step - loss: 0.6410 - accuracy: 0.7659 - precision: 0.8104 - recall: 0.6970 - val_loss: 0.6076 - val_accuracy: 0.7795 - val_precision: 0.8141 - val_recall: 0.7234\n",
            "Epoch 10/10\n",
            "134/134 [==============================] - 5s 35ms/step - loss: 0.5793 - accuracy: 0.7905 - precision: 0.8298 - recall: 0.7404 - val_loss: 0.5645 - val_accuracy: 0.7875 - val_precision: 0.8201 - val_recall: 0.7560\n"
          ]
        }
      ]
    },
    {
      "cell_type": "markdown",
      "source": [
        "# Evaluate the model"
      ],
      "metadata": {
        "id": "vtjrp6AO6J77"
      }
    },
    {
      "cell_type": "code",
      "source": [
        "# Evaluate model on the test set\n",
        "loss, accuracy, precision, recall = model.evaluate(X_test, y_test, verbose=0)\n",
        "# Print metrics\n",
        "print('')\n",
        "print('Accuracy  : {:.4f}'.format(accuracy))\n",
        "print('Precision : {:.4f}'.format(precision))\n",
        "print('Recall    : {:.4f}'.format(recall))\n",
        "print('F1 Score  : {:.4f}'.format(f1_score(precision, recall)))"
      ],
      "metadata": {
        "colab": {
          "base_uri": "https://localhost:8080/"
        },
        "id": "D8_wHtpv5y_D",
        "outputId": "578ab7f7-f102-4cf1-9c37-1fe0a1aa94c7"
      },
      "execution_count": 23,
      "outputs": [
        {
          "output_type": "stream",
          "name": "stdout",
          "text": [
            "\n",
            "Accuracy  : 0.7851\n",
            "Precision : 0.8138\n",
            "Recall    : 0.7433\n",
            "F1 Score  : 0.7770\n"
          ]
        }
      ]
    },
    {
      "cell_type": "code",
      "source": [
        "def plot_training_hist(history):\n",
        "    '''Function to plot history for accuracy and loss'''\n",
        "    \n",
        "    fig, ax = plt.subplots(1,2, figsize=(10,4))\n",
        "    # first plot\n",
        "    ax[0].plot(history.history['accuracy'])\n",
        "    ax[0].plot(history.history['val_accuracy'])\n",
        "    ax[0].set_title('Model Accuracy')\n",
        "    ax[0].set_xlabel('epoch')\n",
        "    ax[0].set_ylabel('accuracy')\n",
        "    ax[0].legend(['train', 'validation'], loc='best')\n",
        "    \n",
        "    # second plot\n",
        "    ax[1].plot(history.history['loss'])\n",
        "    ax[1].plot(history.history['val_loss'])\n",
        "    ax[1].set_title('Model Loss')\n",
        "    ax[1].set_xlabel('epoch')\n",
        "    ax[1].set_ylabel('loss')\n",
        "    ax[1].legend(['train', 'validation'], loc='best')\n",
        "plot_training_hist(history)"
      ],
      "metadata": {
        "colab": {
          "base_uri": "https://localhost:8080/",
          "height": 295
        },
        "id": "oU-wcmEE5y0p",
        "outputId": "f1eaa726-786c-44ec-cb20-52b666c9c79e"
      },
      "execution_count": 24,
      "outputs": [
        {
          "output_type": "display_data",
          "data": {
            "text/plain": [
              "<Figure size 720x288 with 2 Axes>"
            ],
            "image/png": "[encoded data removed]"
          },
          "metadata": {
            "needs_background": "light"
          }
        }
      ]
    },
    {
      "cell_type": "code",
      "source": [
        "from sklearn.metrics import confusion_matrix\n",
        "\n",
        "def plot_confusion_matrix(model, X_test, y_test):\n",
        "    '''Function to plot confusion matrix for the passed model and the data'''\n",
        "    \n",
        "    sentiment_classes = ['Negative','Neutral', 'Positive']\n",
        "    # use model to do the prediction\n",
        "    y_pred = model.predict(X_test)\n",
        "    # compute confusion matrix\n",
        "    cm = confusion_matrix(np.argmax(y_pred, axis=1),np.argmax(np.array(y_test),axis=1))\n",
        "    \n",
        "    print(pd.Series(np.argmax(np.array(y_test),axis=1)).value_counts())\n",
        "    print(pd.Series(np.argmax(y_pred, axis=1)).value_counts())\n",
        "    \n",
        "    # plot confusion matrix\n",
        "    plt.figure(figsize=(8,6))\n",
        "    sns.heatmap(cm, cmap=plt.cm.Blues, annot=True, fmt='d', \n",
        "                xticklabels=sentiment_classes,\n",
        "                yticklabels=sentiment_classes)\n",
        "    plt.title('Confusion matrix', fontsize=16)\n",
        "    plt.xlabel('Actual label', fontsize=12)\n",
        "    plt.ylabel('Predicted label', fontsize=12)\n",
        "plot_confusion_matrix(model, X_test, y_test)"
      ],
      "metadata": {
        "colab": {
          "base_uri": "https://localhost:8080/",
          "height": 537
        },
        "id": "f5uS7Tys6Y02",
        "outputId": "eff9f59b-d9ad-49a4-c4cf-d1e1c5623228"
      },
      "execution_count": 25,
      "outputs": [
        {
          "output_type": "stream",
          "name": "stdout",
          "text": [
            "1    1553\n",
            "2     906\n",
            "0     393\n",
            "dtype: int64\n",
            "1    1981\n",
            "2     871\n",
            "dtype: int64\n"
          ]
        },
        {
          "output_type": "display_data",
          "data": {
            "text/plain": [
              "<Figure size 576x432 with 2 Axes>"
            ],
            "image/png": "[encoded data removed]"
          },
          "metadata": {
            "needs_background": "light"
          }
        }
      ]
    },
    {
      "cell_type": "code",
      "source": [],
      "metadata": {
        "id": "EDkr0ORR6mPt"
      },
      "execution_count": 25,
      "outputs": []
    }
  ]
}